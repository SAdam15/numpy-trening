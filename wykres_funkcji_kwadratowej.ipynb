{
 "cells": [
  {
   "cell_type": "markdown",
   "id": "f1ff30c0",
   "metadata": {},
   "source": [
    "W tym notebooku ćwiczymy tworzenie i manipulowanie tablicami `ndarray` z biblioteki NumPy\n"
   ]
  },
  {
   "cell_type": "code",
   "execution_count": 2,
   "id": "63eb5ba6",
   "metadata": {},
   "outputs": [],
   "source": [
    "import numpy as np"
   ]
  },
  {
   "cell_type": "markdown",
   "id": "d6c11908",
   "metadata": {},
   "source": [
    "## tworzymy jednowymiarową tablicę"
   ]
  },
  {
   "cell_type": "code",
   "execution_count": 3,
   "id": "a4a4d2d2",
   "metadata": {},
   "outputs": [
    {
     "name": "stdout",
     "output_type": "stream",
     "text": [
      "Tablica: [1 2 3 4]\n",
      "Typ: <class 'numpy.ndarray'>\n",
      "Kształt: (4,)\n",
      "Liczba wymiarów: 1\n"
     ]
    }
   ],
   "source": [
    "one_dim = np.array([1, 2, 3, 4])\n",
    "print(\"Tablica:\", one_dim)\n",
    "print(\"Typ:\", type(one_dim))\n",
    "print(\"Kształt:\", one_dim.shape)\n",
    "print(\"Liczba wymiarów:\", one_dim.ndim)"
   ]
  },
  {
   "cell_type": "markdown",
   "id": "cecf009e",
   "metadata": {},
   "source": [
    "## Wektor poziomy i pionowy"
   ]
  },
  {
   "cell_type": "code",
   "execution_count": 4,
   "id": "41e6bb45",
   "metadata": {},
   "outputs": [
    {
     "name": "stdout",
     "output_type": "stream",
     "text": [
      "Poziomy wektor: [[1 2 3 4]]\n",
      "Kształt: (1, 4)\n",
      "\n",
      "Pionowy wektor:\n",
      " [[1]\n",
      " [2]\n",
      " [3]\n",
      " [4]]\n",
      "\n",
      "Z powrotem poziomy:\n",
      "[[1 2 3 4]]\n"
     ]
    }
   ],
   "source": [
    "one_dim_horizontal = np.array([[1, 2, 3, 4]])\n",
    "print(\"Poziomy wektor:\", one_dim_horizontal)\n",
    "print(\"Kształt:\", one_dim_horizontal.shape)\n",
    "\n",
    "one_dim_vertical = one_dim_horizontal.reshape(-1, 1)\n",
    "print(\"\\nPionowy wektor:\\n\", one_dim_vertical)\n",
    "\n",
    "# Zamiana z powrotem na poziomy\n",
    "print(\"\\nZ powrotem poziomy:\")\n",
    "print(one_dim_vertical.reshape(1, -1))"
   ]
  },
  {
   "cell_type": "markdown",
   "id": "b7cb2360",
   "metadata": {},
   "source": [
    "## Dwuwymiarowa tablica\n"
   ]
  },
  {
   "cell_type": "code",
   "execution_count": 5,
   "id": "8f1f1eb4",
   "metadata": {},
   "outputs": [
    {
     "name": "stdout",
     "output_type": "stream",
     "text": [
      "Tablica 2D:\n",
      " [[100 200  50 400]\n",
      " [ 50   0   0 100]\n",
      " [350 100  50 200]]\n",
      "len: 3\n",
      "shape: (3, 4)\n",
      "ndim: 2\n",
      "size: 12\n",
      "itemsize: 8\n"
     ]
    }
   ],
   "source": [
    "two_dim = np.array([\n",
    "    [100, 200, 50, 400],\n",
    "    [50, 0, 0, 100],\n",
    "    [350, 100, 50, 200]\n",
    "])\n",
    "\n",
    "print(\"Tablica 2D:\\n\", two_dim)\n",
    "print(\"len:\", len(two_dim))\n",
    "print(\"shape:\", two_dim.shape)\n",
    "print(\"ndim:\", two_dim.ndim)\n",
    "print(\"size:\", two_dim.size)\n",
    "print(\"itemsize:\", two_dim.itemsize)"
   ]
  },
  {
   "cell_type": "markdown",
   "id": "1cb44eeb",
   "metadata": {},
   "source": [
    "## Zmiana kształtu tablicy (reshape)"
   ]
  },
  {
   "cell_type": "code",
   "execution_count": 6,
   "id": "9ee165cc",
   "metadata": {},
   "outputs": [
    {
     "name": "stdout",
     "output_type": "stream",
     "text": [
      "Oryginalna one_dim: [1 2 3 4]\n",
      "Po reshape (2x2):\n",
      " [[1 2]\n",
      " [3 4]]\n"
     ]
    }
   ],
   "source": [
    "# Przekształcamy one_dim (4 elementy) w macierz 2x2\n",
    "print(\"Oryginalna one_dim:\", one_dim)\n",
    "reshaped = one_dim.reshape(2, 2)\n",
    "print(\"Po reshape (2x2):\\n\", reshaped)"
   ]
  },
  {
   "cell_type": "markdown",
   "id": "66045b22",
   "metadata": {},
   "source": [
    "## Przekształcenie tablicy 3x4 w 4x3"
   ]
  },
  {
   "cell_type": "code",
   "execution_count": 7,
   "id": "71035baf",
   "metadata": {},
   "outputs": [
    {
     "name": "stdout",
     "output_type": "stream",
     "text": [
      "two_dim jako 4x3:\n",
      " [[100 200  50]\n",
      " [400  50   0]\n",
      " [  0 100 350]\n",
      " [100  50 200]]\n"
     ]
    }
   ],
   "source": [
    "reshaped_two_dim = two_dim.reshape(4, 3)\n",
    "print(\"two_dim jako 4x3:\\n\", reshaped_two_dim)"
   ]
  },
  {
   "cell_type": "markdown",
   "id": "97c07069",
   "metadata": {},
   "source": [
    "## Spłaszczanie tablicy"
   ]
  },
  {
   "cell_type": "code",
   "execution_count": 8,
   "id": "954f9b06",
   "metadata": {},
   "outputs": [
    {
     "name": "stdout",
     "output_type": "stream",
     "text": [
      "Flattened: [100 200  50 400  50   0   0 100 350 100  50 200]\n"
     ]
    }
   ],
   "source": [
    "flattened = two_dim.flatten()\n",
    "print(\"Flattened:\", flattened)"
   ]
  },
  {
   "cell_type": "markdown",
   "id": "4da2b271",
   "metadata": {},
   "source": [
    "## Transpozycja macierzy"
   ]
  },
  {
   "cell_type": "code",
   "execution_count": 9,
   "id": "333f87b8",
   "metadata": {},
   "outputs": [
    {
     "name": "stdout",
     "output_type": "stream",
     "text": [
      "Transpozycja:\n",
      " [[100  50 350]\n",
      " [200   0 100]\n",
      " [ 50   0  50]\n",
      " [400 100 200]]\n"
     ]
    }
   ],
   "source": [
    "transposed = two_dim.T  # albo two_dim.transpose()\n",
    "print(\"Transpozycja:\\n\", transposed)"
   ]
  },
  {
   "cell_type": "markdown",
   "id": "6af89cf4",
   "metadata": {},
   "source": [
    "## Generowanie danych losowych"
   ]
  },
  {
   "cell_type": "code",
   "execution_count": 10,
   "id": "f1114001",
   "metadata": {},
   "outputs": [
    {
     "name": "stdout",
     "output_type": "stream",
     "text": [
      "Rand (5): [0.12365225 0.43103833 0.93844873 0.11251351 0.03178631]\n",
      "\n",
      "Rand (3x3):\n",
      " [[0.26480896 0.25473626 0.98806566]\n",
      " [0.39424821 0.58072596 0.03893343]\n",
      " [0.64856384 0.7370341  0.20738118]]\n",
      "\n",
      "Randint (1–100, 10 sztuk): [80 28 78 42 65 55 72 65 46  2]\n"
     ]
    }
   ],
   "source": [
    "print(\"Rand (5):\", np.random.rand(5))\n",
    "print(\"\\nRand (3x3):\\n\", np.random.rand(3, 3))\n",
    "print(\"\\nRandint (1–100, 10 sztuk):\", np.random.randint(1, 100, 10))"
   ]
  },
  {
   "cell_type": "markdown",
   "id": "85509f33",
   "metadata": {},
   "source": [
    "## Wizualizacja danych z NumPy\n"
   ]
  },
  {
   "cell_type": "code",
   "execution_count": 11,
   "id": "7a9619fc",
   "metadata": {},
   "outputs": [
    {
     "ename": "ModuleNotFoundError",
     "evalue": "No module named 'matplotlib'",
     "output_type": "error",
     "traceback": [
      "\u001b[31m---------------------------------------------------------------------------\u001b[39m",
      "\u001b[31mModuleNotFoundError\u001b[39m                       Traceback (most recent call last)",
      "\u001b[36mCell\u001b[39m\u001b[36m \u001b[39m\u001b[32mIn[11]\u001b[39m\u001b[32m, line 1\u001b[39m\n\u001b[32m----> \u001b[39m\u001b[32m1\u001b[39m \u001b[38;5;28;01mimport\u001b[39;00m\u001b[38;5;250m \u001b[39m\u001b[34;01mmatplotlib\u001b[39;00m\u001b[34;01m.\u001b[39;00m\u001b[34;01mpyplot\u001b[39;00m\u001b[38;5;250m \u001b[39m\u001b[38;5;28;01mas\u001b[39;00m\u001b[38;5;250m \u001b[39m\u001b[34;01mplt\u001b[39;00m\n\u001b[32m      3\u001b[39m \u001b[38;5;66;03m# Tworzymy dane – funkcja kwadratowa\u001b[39;00m\n\u001b[32m      4\u001b[39m x = np.linspace(\u001b[32m0\u001b[39m, \u001b[32m10\u001b[39m, \u001b[32m100\u001b[39m)\n",
      "\u001b[31mModuleNotFoundError\u001b[39m: No module named 'matplotlib'"
     ]
    }
   ],
   "source": [
    "import matplotlib.pyplot as plt\n",
    "\n",
    "# Tworzymy dane – funkcja kwadratowa\n",
    "x = np.linspace(0, 10, 100)\n",
    "y = x**2\n",
    "\n",
    "plt.plot(x, y)\n",
    "plt.title(\"Wykres funkcji kwadratowej\")\n",
    "plt.xlabel(\"x\")\n",
    "plt.ylabel(\"x^2\")\n",
    "plt.grid(True)\n",
    "plt.show()"
   ]
  },
  {
   "cell_type": "code",
   "execution_count": 12,
   "id": "879050be",
   "metadata": {},
   "outputs": [
    {
     "name": "stdout",
     "output_type": "stream",
     "text": [
      "Collecting matplotlib\n",
      "  Downloading matplotlib-3.10.3-cp313-cp313-win_amd64.whl.metadata (11 kB)\n",
      "Collecting contourpy>=1.0.1 (from matplotlib)\n",
      "  Downloading contourpy-1.3.2-cp313-cp313-win_amd64.whl.metadata (5.5 kB)\n",
      "Collecting cycler>=0.10 (from matplotlib)\n",
      "  Downloading cycler-0.12.1-py3-none-any.whl.metadata (3.8 kB)\n",
      "Collecting fonttools>=4.22.0 (from matplotlib)\n",
      "  Downloading fonttools-4.58.1-cp313-cp313-win_amd64.whl.metadata (108 kB)\n",
      "Collecting kiwisolver>=1.3.1 (from matplotlib)\n",
      "  Downloading kiwisolver-1.4.8-cp313-cp313-win_amd64.whl.metadata (6.3 kB)\n",
      "Requirement already satisfied: numpy>=1.23 in c:\\users\\abero\\appdata\\local\\programs\\python\\python313\\lib\\site-packages (from matplotlib) (2.2.6)\n",
      "Requirement already satisfied: packaging>=20.0 in c:\\users\\abero\\appdata\\local\\programs\\python\\python313\\lib\\site-packages (from matplotlib) (25.0)\n",
      "Collecting pillow>=8 (from matplotlib)\n",
      "  Downloading pillow-11.2.1-cp313-cp313-win_amd64.whl.metadata (9.1 kB)\n",
      "Collecting pyparsing>=2.3.1 (from matplotlib)\n",
      "  Downloading pyparsing-3.2.3-py3-none-any.whl.metadata (5.0 kB)\n",
      "Requirement already satisfied: python-dateutil>=2.7 in c:\\users\\abero\\appdata\\local\\programs\\python\\python313\\lib\\site-packages (from matplotlib) (2.9.0.post0)\n",
      "Requirement already satisfied: six>=1.5 in c:\\users\\abero\\appdata\\local\\programs\\python\\python313\\lib\\site-packages (from python-dateutil>=2.7->matplotlib) (1.17.0)\n",
      "Downloading matplotlib-3.10.3-cp313-cp313-win_amd64.whl (8.1 MB)\n",
      "   ---------------------------------------- 0.0/8.1 MB ? eta -:--:--\n",
      "   - -------------------------------------- 0.3/8.1 MB ? eta -:--:--\n",
      "   ----- ---------------------------------- 1.0/8.1 MB 2.7 MB/s eta 0:00:03\n",
      "   ------ --------------------------------- 1.3/8.1 MB 2.4 MB/s eta 0:00:03\n",
      "   --------- ------------------------------ 1.8/8.1 MB 2.3 MB/s eta 0:00:03\n",
      "   ----------- ---------------------------- 2.4/8.1 MB 2.4 MB/s eta 0:00:03\n",
      "   ------------ --------------------------- 2.6/8.1 MB 2.2 MB/s eta 0:00:03\n",
      "   --------------- ------------------------ 3.1/8.1 MB 2.2 MB/s eta 0:00:03\n",
      "   ---------------- ----------------------- 3.4/8.1 MB 2.1 MB/s eta 0:00:03\n",
      "   ------------------- -------------------- 3.9/8.1 MB 2.2 MB/s eta 0:00:02\n",
      "   ---------------------- ----------------- 4.5/8.1 MB 2.2 MB/s eta 0:00:02\n",
      "   ------------------------ --------------- 5.0/8.1 MB 2.1 MB/s eta 0:00:02\n",
      "   ------------------------- -------------- 5.2/8.1 MB 2.1 MB/s eta 0:00:02\n",
      "   ---------------------------- ----------- 5.8/8.1 MB 2.1 MB/s eta 0:00:02\n",
      "   ------------------------------- -------- 6.3/8.1 MB 2.2 MB/s eta 0:00:01\n",
      "   ----------------------------------- ---- 7.1/8.1 MB 2.2 MB/s eta 0:00:01\n",
      "   ------------------------------------- -- 7.6/8.1 MB 2.3 MB/s eta 0:00:01\n",
      "   ---------------------------------------- 8.1/8.1 MB 2.3 MB/s eta 0:00:00\n",
      "Downloading contourpy-1.3.2-cp313-cp313-win_amd64.whl (223 kB)\n",
      "Downloading cycler-0.12.1-py3-none-any.whl (8.3 kB)\n",
      "Downloading fonttools-4.58.1-cp313-cp313-win_amd64.whl (2.2 MB)\n",
      "   ---------------------------------------- 0.0/2.2 MB ? eta -:--:--\n",
      "   --------- ------------------------------ 0.5/2.2 MB 3.3 MB/s eta 0:00:01\n",
      "   ------------------ --------------------- 1.0/2.2 MB 2.8 MB/s eta 0:00:01\n",
      "   -------------------------------- ------- 1.8/2.2 MB 3.1 MB/s eta 0:00:01\n",
      "   ---------------------------------------- 2.2/2.2 MB 2.7 MB/s eta 0:00:00\n",
      "Downloading kiwisolver-1.4.8-cp313-cp313-win_amd64.whl (71 kB)\n",
      "Downloading pillow-11.2.1-cp313-cp313-win_amd64.whl (2.7 MB)\n",
      "   ---------------------------------------- 0.0/2.7 MB ? eta -:--:--\n",
      "   ------- -------------------------------- 0.5/2.7 MB 3.5 MB/s eta 0:00:01\n",
      "   --------------- ------------------------ 1.0/2.7 MB 3.1 MB/s eta 0:00:01\n",
      "   ----------------------- ---------------- 1.6/2.7 MB 3.1 MB/s eta 0:00:01\n",
      "   ----------------------------------- ---- 2.4/2.7 MB 3.0 MB/s eta 0:00:01\n",
      "   ---------------------------------------  2.6/2.7 MB 2.9 MB/s eta 0:00:01\n",
      "   ---------------------------------------  2.6/2.7 MB 2.9 MB/s eta 0:00:01\n",
      "   ---------------------------------------  2.6/2.7 MB 2.9 MB/s eta 0:00:01\n",
      "   ---------------------------------------- 2.7/2.7 MB 1.5 MB/s eta 0:00:00\n",
      "Downloading pyparsing-3.2.3-py3-none-any.whl (111 kB)\n",
      "Installing collected packages: pyparsing, pillow, kiwisolver, fonttools, cycler, contourpy, matplotlib\n",
      "\n",
      "   ---------------------------------------- 0/7 [pyparsing]\n",
      "   ---------------------------------------- 0/7 [pyparsing]\n",
      "   ----- ---------------------------------- 1/7 [pillow]\n",
      "   ----- ---------------------------------- 1/7 [pillow]\n",
      "   ----- ---------------------------------- 1/7 [pillow]\n",
      "   ----- ---------------------------------- 1/7 [pillow]\n",
      "   ----- ---------------------------------- 1/7 [pillow]\n",
      "   ----- ---------------------------------- 1/7 [pillow]\n",
      "   ----- ---------------------------------- 1/7 [pillow]\n",
      "   ----- ---------------------------------- 1/7 [pillow]\n",
      "   ----- ---------------------------------- 1/7 [pillow]\n",
      "   ----- ---------------------------------- 1/7 [pillow]\n",
      "   ----- ---------------------------------- 1/7 [pillow]\n",
      "   ----- ---------------------------------- 1/7 [pillow]\n",
      "   ----- ---------------------------------- 1/7 [pillow]\n",
      "   ----- ---------------------------------- 1/7 [pillow]\n",
      "   ----- ---------------------------------- 1/7 [pillow]\n",
      "   ----- ---------------------------------- 1/7 [pillow]\n",
      "   ----- ---------------------------------- 1/7 [pillow]\n",
      "   ----- ---------------------------------- 1/7 [pillow]\n",
      "   ----------------- ---------------------- 3/7 [fonttools]\n",
      "   ----------------- ---------------------- 3/7 [fonttools]\n",
      "   ----------------- ---------------------- 3/7 [fonttools]\n",
      "   ----------------- ---------------------- 3/7 [fonttools]\n",
      "   ----------------- ---------------------- 3/7 [fonttools]\n",
      "   ----------------- ---------------------- 3/7 [fonttools]\n",
      "   ----------------- ---------------------- 3/7 [fonttools]\n",
      "   ----------------- ---------------------- 3/7 [fonttools]\n",
      "   ----------------- ---------------------- 3/7 [fonttools]\n",
      "   ----------------- ---------------------- 3/7 [fonttools]\n",
      "   ----------------- ---------------------- 3/7 [fonttools]\n",
      "   ----------------- ---------------------- 3/7 [fonttools]\n",
      "   ----------------- ---------------------- 3/7 [fonttools]\n",
      "   ----------------- ---------------------- 3/7 [fonttools]\n",
      "   ----------------- ---------------------- 3/7 [fonttools]\n",
      "   ----------------- ---------------------- 3/7 [fonttools]\n",
      "   ----------------- ---------------------- 3/7 [fonttools]\n",
      "   ----------------- ---------------------- 3/7 [fonttools]\n",
      "   ----------------- ---------------------- 3/7 [fonttools]\n",
      "   ----------------- ---------------------- 3/7 [fonttools]\n",
      "   ----------------- ---------------------- 3/7 [fonttools]\n",
      "   ----------------- ---------------------- 3/7 [fonttools]\n",
      "   ----------------- ---------------------- 3/7 [fonttools]\n",
      "   ----------------- ---------------------- 3/7 [fonttools]\n",
      "   ----------------- ---------------------- 3/7 [fonttools]\n",
      "   ----------------- ---------------------- 3/7 [fonttools]\n",
      "   ----------------- ---------------------- 3/7 [fonttools]\n",
      "   ----------------- ---------------------- 3/7 [fonttools]\n",
      "   ----------------- ---------------------- 3/7 [fonttools]\n",
      "   ----------------- ---------------------- 3/7 [fonttools]\n",
      "   ----------------- ---------------------- 3/7 [fonttools]\n",
      "   ----------------- ---------------------- 3/7 [fonttools]\n",
      "   ----------------- ---------------------- 3/7 [fonttools]\n",
      "   ----------------- ---------------------- 3/7 [fonttools]\n",
      "   ----------------- ---------------------- 3/7 [fonttools]\n",
      "   ----------------- ---------------------- 3/7 [fonttools]\n",
      "   ----------------- ---------------------- 3/7 [fonttools]\n",
      "   ----------------- ---------------------- 3/7 [fonttools]\n",
      "   ----------------- ---------------------- 3/7 [fonttools]\n",
      "   ----------------- ---------------------- 3/7 [fonttools]\n",
      "   ----------------- ---------------------- 3/7 [fonttools]\n",
      "   ----------------- ---------------------- 3/7 [fonttools]\n",
      "   ----------------- ---------------------- 3/7 [fonttools]\n",
      "   ----------------- ---------------------- 3/7 [fonttools]\n",
      "   ----------------- ---------------------- 3/7 [fonttools]\n",
      "   ----------------- ---------------------- 3/7 [fonttools]\n",
      "   ----------------- ---------------------- 3/7 [fonttools]\n",
      "   ----------------- ---------------------- 3/7 [fonttools]\n",
      "   ----------------- ---------------------- 3/7 [fonttools]\n",
      "   ----------------- ---------------------- 3/7 [fonttools]\n",
      "   ----------------- ---------------------- 3/7 [fonttools]\n",
      "   ----------------- ---------------------- 3/7 [fonttools]\n",
      "   ----------------- ---------------------- 3/7 [fonttools]\n",
      "   ----------------- ---------------------- 3/7 [fonttools]\n",
      "   ----------------- ---------------------- 3/7 [fonttools]\n",
      "   ----------------- ---------------------- 3/7 [fonttools]\n",
      "   ----------------- ---------------------- 3/7 [fonttools]\n",
      "   ---------------------- ----------------- 4/7 [cycler]\n",
      "   ---------------------------- ----------- 5/7 [contourpy]\n",
      "   ---------------------------- ----------- 5/7 [contourpy]\n",
      "   ---------------------------- ----------- 5/7 [contourpy]\n",
      "   ---------------------------------- ----- 6/7 [matplotlib]\n",
      "   ---------------------------------- ----- 6/7 [matplotlib]\n",
      "   ---------------------------------- ----- 6/7 [matplotlib]\n",
      "   ---------------------------------- ----- 6/7 [matplotlib]\n",
      "   ---------------------------------- ----- 6/7 [matplotlib]\n",
      "   ---------------------------------- ----- 6/7 [matplotlib]\n",
      "   ---------------------------------- ----- 6/7 [matplotlib]\n",
      "   ---------------------------------- ----- 6/7 [matplotlib]\n",
      "   ---------------------------------- ----- 6/7 [matplotlib]\n",
      "   ---------------------------------- ----- 6/7 [matplotlib]\n",
      "   ---------------------------------- ----- 6/7 [matplotlib]\n",
      "   ---------------------------------- ----- 6/7 [matplotlib]\n",
      "   ---------------------------------- ----- 6/7 [matplotlib]\n",
      "   ---------------------------------- ----- 6/7 [matplotlib]\n",
      "   ---------------------------------- ----- 6/7 [matplotlib]\n",
      "   ---------------------------------- ----- 6/7 [matplotlib]\n",
      "   ---------------------------------- ----- 6/7 [matplotlib]\n",
      "   ---------------------------------- ----- 6/7 [matplotlib]\n",
      "   ---------------------------------- ----- 6/7 [matplotlib]\n",
      "   ---------------------------------- ----- 6/7 [matplotlib]\n",
      "   ---------------------------------- ----- 6/7 [matplotlib]\n",
      "   ---------------------------------- ----- 6/7 [matplotlib]\n",
      "   ---------------------------------- ----- 6/7 [matplotlib]\n",
      "   ---------------------------------- ----- 6/7 [matplotlib]\n",
      "   ---------------------------------- ----- 6/7 [matplotlib]\n",
      "   ---------------------------------- ----- 6/7 [matplotlib]\n",
      "   ---------------------------------- ----- 6/7 [matplotlib]\n",
      "   ---------------------------------- ----- 6/7 [matplotlib]\n",
      "   ---------------------------------- ----- 6/7 [matplotlib]\n",
      "   ---------------------------------- ----- 6/7 [matplotlib]\n",
      "   ---------------------------------- ----- 6/7 [matplotlib]\n",
      "   ---------------------------------- ----- 6/7 [matplotlib]\n",
      "   ---------------------------------- ----- 6/7 [matplotlib]\n",
      "   ---------------------------------- ----- 6/7 [matplotlib]\n",
      "   ---------------------------------- ----- 6/7 [matplotlib]\n",
      "   ---------------------------------- ----- 6/7 [matplotlib]\n",
      "   ---------------------------------- ----- 6/7 [matplotlib]\n",
      "   ---------------------------------- ----- 6/7 [matplotlib]\n",
      "   ---------------------------------- ----- 6/7 [matplotlib]\n",
      "   ---------------------------------- ----- 6/7 [matplotlib]\n",
      "   ---------------------------------- ----- 6/7 [matplotlib]\n",
      "   ---------------------------------- ----- 6/7 [matplotlib]\n",
      "   ---------------------------------- ----- 6/7 [matplotlib]\n",
      "   ---------------------------------- ----- 6/7 [matplotlib]\n",
      "   ---------------------------------- ----- 6/7 [matplotlib]\n",
      "   ---------------------------------- ----- 6/7 [matplotlib]\n",
      "   ---------------------------------- ----- 6/7 [matplotlib]\n",
      "   ---------------------------------- ----- 6/7 [matplotlib]\n",
      "   ---------------------------------- ----- 6/7 [matplotlib]\n",
      "   ---------------------------------- ----- 6/7 [matplotlib]\n",
      "   ---------------------------------- ----- 6/7 [matplotlib]\n",
      "   ---------------------------------- ----- 6/7 [matplotlib]\n",
      "   ---------------------------------- ----- 6/7 [matplotlib]\n",
      "   ---------------------------------- ----- 6/7 [matplotlib]\n",
      "   ---------------------------------- ----- 6/7 [matplotlib]\n",
      "   ---------------------------------- ----- 6/7 [matplotlib]\n",
      "   ---------------------------------- ----- 6/7 [matplotlib]\n",
      "   ---------------------------------- ----- 6/7 [matplotlib]\n",
      "   ---------------------------------- ----- 6/7 [matplotlib]\n",
      "   ---------------------------------- ----- 6/7 [matplotlib]\n",
      "   ---------------------------------- ----- 6/7 [matplotlib]\n",
      "   ---------------------------------------- 7/7 [matplotlib]\n",
      "\n",
      "Successfully installed contourpy-1.3.2 cycler-0.12.1 fonttools-4.58.1 kiwisolver-1.4.8 matplotlib-3.10.3 pillow-11.2.1 pyparsing-3.2.3\n"
     ]
    },
    {
     "name": "stderr",
     "output_type": "stream",
     "text": [
      "WARNING: Ignoring invalid distribution ~python (C:\\Users\\abero\\AppData\\Local\\Programs\\Python\\Python313\\Lib\\site-packages)\n",
      "WARNING: Ignoring invalid distribution ~python (C:\\Users\\abero\\AppData\\Local\\Programs\\Python\\Python313\\Lib\\site-packages)\n",
      "WARNING: Ignoring invalid distribution ~python (C:\\Users\\abero\\AppData\\Local\\Programs\\Python\\Python313\\Lib\\site-packages)\n"
     ]
    }
   ],
   "source": [
    "!pip install matplotlib"
   ]
  },
  {
   "cell_type": "code",
   "execution_count": 13,
   "id": "b85fbac3",
   "metadata": {},
   "outputs": [
    {
     "name": "stderr",
     "output_type": "stream",
     "text": [
      "Matplotlib is building the font cache; this may take a moment.\n"
     ]
    }
   ],
   "source": [
    "import matplotlib.pyplot as plt"
   ]
  },
  {
   "cell_type": "code",
   "execution_count": 14,
   "id": "69a8559e",
   "metadata": {},
   "outputs": [
    {
     "data": {
      "image/png": "[encoded data removed]",
      "text/plain": [
       "<Figure size 640x480 with 1 Axes>"
      ]
     },
     "metadata": {},
     "output_type": "display_data"
    }
   ],
   "source": [
    "# Tworzymy dane – funkcja kwadratowa\n",
    "x = np.linspace(0, 10, 100)\n",
    "y = x**2\n",
    "\n",
    "plt.plot(x, y)\n",
    "plt.title(\"Wykres funkcji kwadratowej\")\n",
    "plt.xlabel(\"x\")\n",
    "plt.ylabel(\"x^2\")\n",
    "plt.grid(True)\n",
    "plt.show()"
   ]
  },
  {
   "cell_type": "code",
   "execution_count": null,
   "id": "7d5d7380",
   "metadata": {},
   "outputs": [],
   "source": []
  }
 ],
 "metadata": {
  "kernelspec": {
   "display_name": "Python 3 (ipykernel)",
   "language": "python",
   "name": "python3"
  },
  "language_info": {
   "codemirror_mode": {
    "name": "ipython",
    "version": 3
   },
   "file_extension": ".py",
   "mimetype": "text/x-python",
   "name": "python",
   "nbconvert_exporter": "python",
   "pygments_lexer": "ipython3",
   "version": "3.13.3"
  }
 },
 "nbformat": 4,
 "nbformat_minor": 5
}
